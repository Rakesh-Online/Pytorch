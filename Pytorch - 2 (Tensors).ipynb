{
 "cells": [
  {
   "cell_type": "markdown",
   "metadata": {},
   "source": [
    "\n",
    "<div class=\"alert alert-block alert-info\" style=\"margin-top: 20px\">\n",
    "    <h1 style = 'color : Tomato;'>PyTorch - 2 <b>(Tensors)</b></h1>\n",
    "<h2>Table of content</h2>\n",
    "\n",
    "<ol>\n",
    "    <li><a href=\"#ref1\">Introduction to tensors</a></li>\n",
    "    <li><a href=\"#ref2\">Arthematic operations with pytorch</a></li>\n",
    "    <li><a href=\"#ref3\">Matric operations with pytorch</a></li>\n",
    "    \n",
    "</ol>\n",
    "\n"
   ]
  },
  {
   "cell_type": "code",
   "execution_count": 35,
   "metadata": {},
   "outputs": [],
   "source": [
    "import torch"
   ]
  },
  {
   "cell_type": "markdown",
   "metadata": {},
   "source": [
    "<a id=\"ref1\"></a>\n",
    "<h2> Tensor Operation</h2>"
   ]
  },
  {
   "cell_type": "code",
   "execution_count": 74,
   "metadata": {},
   "outputs": [
    {
     "name": "stdout",
     "output_type": "stream",
     "text": [
      "tensor([1., 2., 3., 4., 5.], dtype=torch.float64)\n",
      "tensor([1, 2, 3, 4, 5, 5, 6, 7], device='cuda:0')\n"
     ]
    }
   ],
   "source": [
    "#1D tensor \n",
    "ten1 = torch.tensor([1,2,3,4,5],dtype= torch.float64)\n",
    "print(ten1)\n",
    "\n",
    "#1D tensor with GPU\n",
    "tenGPU1 = torch.tensor([1,2,3,4,5,5,6,7]).cuda()\n",
    "print(tenGPU1)"
   ]
  },
  {
   "cell_type": "code",
   "execution_count": 87,
   "metadata": {},
   "outputs": [
    {
     "name": "stdout",
     "output_type": "stream",
     "text": [
      "tensor([[2, 3, 4, 5, 6],\n",
      "        [7, 2, 3, 4, 5]]) \n",
      "\n",
      "tensor([[ 2,  3,  4,  5, 10],\n",
      "        [ 7,  2,  3,  4, 11]], device='cuda:0')\n"
     ]
    }
   ],
   "source": [
    "#2D tensor\n",
    "ten2 = torch.tensor([[2,3,4,5,6],[7,2,3,4,5,]])\n",
    "print(ten2, '\\n')\n",
    "\n",
    "#2D Tensor with GPU\n",
    "tenGPU2 = torch.tensor([[2,3,4,5,10],[7,2,3,4,11]]).cuda()\n",
    "print(tenGPU2)\n"
   ]
  },
  {
   "cell_type": "code",
   "execution_count": 88,
   "metadata": {},
   "outputs": [
    {
     "name": "stdout",
     "output_type": "stream",
     "text": [
      "tensor([[[2, 3, 4, 5, 6],\n",
      "         [7, 2, 3, 4, 5]]]) \n",
      "\n",
      "tensor([[[ 2,  3,  4,  5, 10],\n",
      "         [ 7,  2,  3,  4, 11]]], device='cuda:0')\n"
     ]
    }
   ],
   "source": [
    "#3D Tensor\n",
    "ten3 = torch.tensor([[[2,3,4,5,6],[7,2,3,4,5,]]])\n",
    "print(ten3, '\\n')\n",
    "\n",
    "#3D Tensor with GPU \n",
    "tenGPU3 = torch.tensor([[[2,3,4,5,10],[7,2,3,4,11]]]).cuda()\n",
    "print(tenGPU3)\n"
   ]
  },
  {
   "cell_type": "code",
   "execution_count": 70,
   "metadata": {},
   "outputs": [
    {
     "name": "stdout",
     "output_type": "stream",
     "text": [
      "torch.Size([5]) \n",
      "\n",
      "torch.Size([2, 5]) \n",
      "\n",
      "torch.Size([1, 2, 5])\n"
     ]
    }
   ],
   "source": [
    "#shape of above Tensors\n",
    "print(ten1.shape, '\\n')\n",
    "print(ten2.shape, '\\n')\n",
    "print(ten3.shape)"
   ]
  },
  {
   "cell_type": "code",
   "execution_count": 71,
   "metadata": {},
   "outputs": [
    {
     "name": "stdout",
     "output_type": "stream",
     "text": [
      "torch.Size([8]) \n",
      "\n",
      "torch.Size([2, 5]) \n",
      "\n",
      "torch.Size([1, 2, 5])\n"
     ]
    }
   ],
   "source": [
    "#Shape of GPU tensor\n",
    "print(tenGPU1.shape, '\\n')\n",
    "print(tenGPU2.shape, '\\n')\n",
    "print(tenGPU3.shape)"
   ]
  },
  {
   "cell_type": "code",
   "execution_count": 72,
   "metadata": {},
   "outputs": [
    {
     "name": "stdout",
     "output_type": "stream",
     "text": [
      "tensor([[0.7384, 0.0126],\n",
      "        [0.5293, 0.9484],\n",
      "        [0.4709, 0.2496]]) \n",
      "\n",
      "tensor([[0., 0.],\n",
      "        [0., 0.],\n",
      "        [0., 0.]]) \n",
      "\n",
      "tensor([[1., 1.],\n",
      "        [1., 1.],\n",
      "        [1., 1.]]) \n",
      "\n",
      "tensor([[0, 0, 1],\n",
      "        [5, 7, 6],\n",
      "        [8, 6, 7]])\n"
     ]
    }
   ],
   "source": [
    "# Random numbers of shape 3,2\n",
    "print(torch.rand(3,2), '\\n')\n",
    "\n",
    "#zeros\n",
    "print(torch.zeros(3,2), '\\n')\n",
    "\n",
    "#Ones\n",
    "print(torch.ones(3,2), '\\n')\n",
    "\n",
    "# Create random integers of shape(3,3)  between (0,10)\n",
    "print(torch.randint(low=0, high=10, size=(3,3)))\n",
    "\n"
   ]
  },
  {
   "cell_type": "code",
   "execution_count": 91,
   "metadata": {},
   "outputs": [
    {
     "data": {
      "text/plain": [
       "tensor([[ 1.,  2.],\n",
       "        [ 3.,  4.],\n",
       "        [ 5.,  6.],\n",
       "        [ 7.,  8.],\n",
       "        [ 9., 10.]], device='cuda:0')"
      ]
     },
     "execution_count": 91,
     "metadata": {},
     "output_type": "execute_result"
    }
   ],
   "source": [
    "torch.range(1,10).reshape(5,2).cuda()"
   ]
  },
  {
   "cell_type": "markdown",
   "metadata": {},
   "source": [
    "<a id=\"ref2\"></a>\n",
    "<h2>Arthematic operation</h2>"
   ]
  },
  {
   "cell_type": "code",
   "execution_count": 80,
   "metadata": {},
   "outputs": [
    {
     "name": "stdout",
     "output_type": "stream",
     "text": [
      "tensor(2) tensor(1)\n"
     ]
    }
   ],
   "source": [
    "x = torch.tensor(2)\n",
    "y = torch.tensor(1)\n",
    "print(x,y)"
   ]
  },
  {
   "cell_type": "code",
   "execution_count": 76,
   "metadata": {},
   "outputs": [
    {
     "name": "stdout",
     "output_type": "stream",
     "text": [
      "tensor(3)\n"
     ]
    }
   ],
   "source": [
    "# addition\n",
    "print(x+y)"
   ]
  },
  {
   "cell_type": "code",
   "execution_count": 77,
   "metadata": {},
   "outputs": [
    {
     "name": "stdout",
     "output_type": "stream",
     "text": [
      "tensor(-1)\n"
     ]
    }
   ],
   "source": [
    "# subtraction\n",
    "print(y-x)\n"
   ]
  },
  {
   "cell_type": "code",
   "execution_count": 78,
   "metadata": {},
   "outputs": [
    {
     "name": "stdout",
     "output_type": "stream",
     "text": [
      "tensor(2)\n"
     ]
    }
   ],
   "source": [
    "# multiplication\n",
    "print(x*y)"
   ]
  },
  {
   "cell_type": "code",
   "execution_count": 81,
   "metadata": {},
   "outputs": [
    {
     "name": "stdout",
     "output_type": "stream",
     "text": [
      "tensor(2)\n"
     ]
    }
   ],
   "source": [
    "# division\n",
    "print(x/y)"
   ]
  },
  {
   "cell_type": "markdown",
   "metadata": {},
   "source": [
    "<a id=\"ref3\"></a>\n",
    "<h2>matric operation</h2>"
   ]
  },
  {
   "cell_type": "code",
   "execution_count": 82,
   "metadata": {},
   "outputs": [],
   "source": [
    "a = torch.randn(3,3)\n",
    "b = torch.randn(3,3)"
   ]
  },
  {
   "cell_type": "code",
   "execution_count": 85,
   "metadata": {},
   "outputs": [
    {
     "name": "stdout",
     "output_type": "stream",
     "text": [
      "tensor([[-2.2771,  0.8774, -0.0170],\n",
      "        [-1.2123, -0.0984, -2.7817],\n",
      "        [ 0.2897,  2.4567,  0.6242]]) \n",
      "\n",
      "tensor([[ 1.5278,  4.1663, -0.2525],\n",
      "        [-1.8722, -0.2486,  0.4595],\n",
      "        [-1.5772,  0.6054,  1.3973]]) \n",
      "\n",
      "tensor([[ 1.4191,  0.6808, -4.0789],\n",
      "        [ 1.7930,  1.4484,  0.5483],\n",
      "        [ 2.6733,  2.1092, -2.9477]]) \n",
      "\n",
      "tensor([[ 0.1969, -1.5335, -1.1440],\n",
      "        [-4.6742, -2.3109,  0.7165],\n",
      "        [-0.6896,  1.6540, -2.6148]])\n"
     ]
    },
    {
     "data": {
      "text/plain": [
       "tensor([[-0.3747, -1.5422, -0.6437],\n",
       "        [ 2.5219, -0.1735,  1.5311],\n",
       "        [-0.1348, -1.1611,  1.0107]])"
      ]
     },
     "execution_count": 85,
     "metadata": {},
     "output_type": "execute_result"
    }
   ],
   "source": [
    "# matrix addition\n",
    "print(torch.add(a,b), '\\n')\n",
    "\n",
    "# matrix subtraction\n",
    "print(torch.sub(a,b), '\\n')\n",
    "\n",
    "# matrix multiplication\n",
    "print(torch.mm(a,b), '\\n')\n",
    "\n",
    "# matrix division\n",
    "print(torch.div(a,b))\n",
    "\n",
    "# matrix transpose\n",
    "torch.t(a)"
   ]
  },
  {
   "cell_type": "code",
   "execution_count": null,
   "metadata": {},
   "outputs": [],
   "source": []
  }
 ],
 "metadata": {
  "kernelspec": {
   "display_name": "Python 3",
   "language": "python",
   "name": "python3"
  },
  "language_info": {
   "codemirror_mode": {
    "name": "ipython",
    "version": 3
   },
   "file_extension": ".py",
   "mimetype": "text/x-python",
   "name": "python",
   "nbconvert_exporter": "python",
   "pygments_lexer": "ipython3",
   "version": "3.7.3"
  },
  "toc": {
   "base_numbering": 1,
   "nav_menu": {},
   "number_sections": true,
   "sideBar": true,
   "skip_h1_title": false,
   "title_cell": "Table of Contents",
   "title_sidebar": "Contents",
   "toc_cell": false,
   "toc_position": {},
   "toc_section_display": true,
   "toc_window_display": false
  }
 },
 "nbformat": 4,
 "nbformat_minor": 4
}
